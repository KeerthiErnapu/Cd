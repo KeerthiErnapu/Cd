{
  "nbformat": 4,
  "nbformat_minor": 0,
  "metadata": {
    "colab": {
      "provenance": [],
      "authorship_tag": "ABX9TyOI7gTPtFLSHszldvQd5pRq",
      "include_colab_link": true
    },
    "kernelspec": {
      "name": "python3",
      "display_name": "Python 3"
    },
    "language_info": {
      "name": "python"
    }
  },
  "cells": [
    {
      "cell_type": "markdown",
      "metadata": {
        "id": "view-in-github",
        "colab_type": "text"
      },
      "source": [
        "<a href=\"https://colab.research.google.com/github/KeerthiErnapu/Cd/blob/main/perceptron_AND_OR_Gate.ipynb\" target=\"_parent\"><img src=\"https://colab.research.google.com/assets/colab-badge.svg\" alt=\"Open In Colab\"/></a>"
      ]
    },
    {
      "cell_type": "code",
      "execution_count": 1,
      "metadata": {
        "id": "D2NH8pgoJiWo"
      },
      "outputs": [],
      "source": [
        "import numpy as np"
      ]
    },
    {
      "cell_type": "code",
      "source": [
        "#AND GATE PERCEPTRON\n",
        "def unitstep(v):\n",
        "  if(v>0):\n",
        "    return 1\n",
        "  else:\n",
        "    return 0\n",
        "def perceptron(x,w,b):\n",
        "  v=np.dot(x,w)+b\n",
        "  y=unitstep(v)\n",
        "  return y\n",
        "def and_logic(x):\n",
        "  w=np.array([1,1])\n",
        "  b=-1\n",
        "  return perceptron(x,w,b)\n",
        "test1=np.array([0,1])\n",
        "test2=np.array([1,1])\n",
        "test3=np.array([0,0])\n",
        "test4=np.array([1,0])\n",
        "print(and_logic(test4))\n",
        "\n"
      ],
      "metadata": {
        "colab": {
          "base_uri": "https://localhost:8080/"
        },
        "id": "xk-YEMTvJtTQ",
        "outputId": "d44dc94e-aa75-405d-d2b6-116b65d0f643"
      },
      "execution_count": 12,
      "outputs": [
        {
          "output_type": "stream",
          "name": "stdout",
          "text": [
            "0\n"
          ]
        }
      ]
    },
    {
      "cell_type": "code",
      "source": [
        "#OR GATE PERCEPTRON\n",
        "def unitstep(v):\n",
        "  if(v>=0):\n",
        "    return 1\n",
        "  else:\n",
        "    return 0\n",
        "def perceptron(x,w,b):\n",
        "  v=np.dot(x,w)+b\n",
        "  y=unitstep(v)\n",
        "  return y\n",
        "def or_logic(x):\n",
        "  w=np.array([1,1])\n",
        "  b=-0.5\n",
        "  return perceptron(x,w,b)\n",
        "test1=np.array([0,1])\n",
        "test2=np.array([1,1])\n",
        "test3=np.array([0,0])\n",
        "test4=np.array([1,0])\n",
        "print(and_logic(test1))\n"
      ],
      "metadata": {
        "colab": {
          "base_uri": "https://localhost:8080/"
        },
        "id": "fTr0UJuaPDI0",
        "outputId": "7ed4e2f2-106a-4714-f68c-28b82395ce59"
      },
      "execution_count": 18,
      "outputs": [
        {
          "output_type": "stream",
          "name": "stdout",
          "text": [
            "1\n"
          ]
        }
      ]
    }
  ]
}